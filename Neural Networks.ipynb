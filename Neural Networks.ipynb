{
 "cells": [
  {
   "cell_type": "markdown",
   "metadata": {},
   "source": [
    "# Neural Networks\n",
    "## Import Libraries"
   ]
  },
  {
   "cell_type": "code",
   "execution_count": 1,
   "metadata": {},
   "outputs": [],
   "source": [
    "import pandas as pd\n",
    "import numpy as np\n",
    "import matplotlib.pyplot as plt\n",
    "import seaborn as sns\n",
    "import tensorflow as tf\n",
    "%matplotlib inline"
   ]
  },
  {
   "cell_type": "markdown",
   "metadata": {},
   "source": [
    "## Import Dataset"
   ]
  },
  {
   "cell_type": "code",
   "execution_count": 2,
   "metadata": {},
   "outputs": [],
   "source": [
    "dataset = pd.read_csv('Churn_Modelling.csv')"
   ]
  },
  {
   "cell_type": "code",
   "execution_count": 3,
   "metadata": {},
   "outputs": [
    {
     "data": {
      "text/html": [
       "<div>\n",
       "<style scoped>\n",
       "    .dataframe tbody tr th:only-of-type {\n",
       "        vertical-align: middle;\n",
       "    }\n",
       "\n",
       "    .dataframe tbody tr th {\n",
       "        vertical-align: top;\n",
       "    }\n",
       "\n",
       "    .dataframe thead th {\n",
       "        text-align: right;\n",
       "    }\n",
       "</style>\n",
       "<table border=\"1\" class=\"dataframe\">\n",
       "  <thead>\n",
       "    <tr style=\"text-align: right;\">\n",
       "      <th></th>\n",
       "      <th>RowNumber</th>\n",
       "      <th>CustomerId</th>\n",
       "      <th>Surname</th>\n",
       "      <th>CreditScore</th>\n",
       "      <th>Geography</th>\n",
       "      <th>Gender</th>\n",
       "      <th>Age</th>\n",
       "      <th>Tenure</th>\n",
       "      <th>Balance</th>\n",
       "      <th>NumOfProducts</th>\n",
       "      <th>HasCrCard</th>\n",
       "      <th>IsActiveMember</th>\n",
       "      <th>EstimatedSalary</th>\n",
       "      <th>Exited</th>\n",
       "    </tr>\n",
       "  </thead>\n",
       "  <tbody>\n",
       "    <tr>\n",
       "      <th>0</th>\n",
       "      <td>1</td>\n",
       "      <td>15634602</td>\n",
       "      <td>Hargrave</td>\n",
       "      <td>619</td>\n",
       "      <td>France</td>\n",
       "      <td>Female</td>\n",
       "      <td>42</td>\n",
       "      <td>2</td>\n",
       "      <td>0.00</td>\n",
       "      <td>1</td>\n",
       "      <td>1</td>\n",
       "      <td>1</td>\n",
       "      <td>101348.88</td>\n",
       "      <td>1</td>\n",
       "    </tr>\n",
       "    <tr>\n",
       "      <th>1</th>\n",
       "      <td>2</td>\n",
       "      <td>15647311</td>\n",
       "      <td>Hill</td>\n",
       "      <td>608</td>\n",
       "      <td>Spain</td>\n",
       "      <td>Female</td>\n",
       "      <td>41</td>\n",
       "      <td>1</td>\n",
       "      <td>83807.86</td>\n",
       "      <td>1</td>\n",
       "      <td>0</td>\n",
       "      <td>1</td>\n",
       "      <td>112542.58</td>\n",
       "      <td>0</td>\n",
       "    </tr>\n",
       "    <tr>\n",
       "      <th>2</th>\n",
       "      <td>3</td>\n",
       "      <td>15619304</td>\n",
       "      <td>Onio</td>\n",
       "      <td>502</td>\n",
       "      <td>France</td>\n",
       "      <td>Female</td>\n",
       "      <td>42</td>\n",
       "      <td>8</td>\n",
       "      <td>159660.80</td>\n",
       "      <td>3</td>\n",
       "      <td>1</td>\n",
       "      <td>0</td>\n",
       "      <td>113931.57</td>\n",
       "      <td>1</td>\n",
       "    </tr>\n",
       "    <tr>\n",
       "      <th>3</th>\n",
       "      <td>4</td>\n",
       "      <td>15701354</td>\n",
       "      <td>Boni</td>\n",
       "      <td>699</td>\n",
       "      <td>France</td>\n",
       "      <td>Female</td>\n",
       "      <td>39</td>\n",
       "      <td>1</td>\n",
       "      <td>0.00</td>\n",
       "      <td>2</td>\n",
       "      <td>0</td>\n",
       "      <td>0</td>\n",
       "      <td>93826.63</td>\n",
       "      <td>0</td>\n",
       "    </tr>\n",
       "    <tr>\n",
       "      <th>4</th>\n",
       "      <td>5</td>\n",
       "      <td>15737888</td>\n",
       "      <td>Mitchell</td>\n",
       "      <td>850</td>\n",
       "      <td>Spain</td>\n",
       "      <td>Female</td>\n",
       "      <td>43</td>\n",
       "      <td>2</td>\n",
       "      <td>125510.82</td>\n",
       "      <td>1</td>\n",
       "      <td>1</td>\n",
       "      <td>1</td>\n",
       "      <td>79084.10</td>\n",
       "      <td>0</td>\n",
       "    </tr>\n",
       "  </tbody>\n",
       "</table>\n",
       "</div>"
      ],
      "text/plain": [
       "   RowNumber  CustomerId   Surname  CreditScore Geography  Gender  Age  \\\n",
       "0          1    15634602  Hargrave          619    France  Female   42   \n",
       "1          2    15647311      Hill          608     Spain  Female   41   \n",
       "2          3    15619304      Onio          502    France  Female   42   \n",
       "3          4    15701354      Boni          699    France  Female   39   \n",
       "4          5    15737888  Mitchell          850     Spain  Female   43   \n",
       "\n",
       "   Tenure    Balance  NumOfProducts  HasCrCard  IsActiveMember  \\\n",
       "0       2       0.00              1          1               1   \n",
       "1       1   83807.86              1          0               1   \n",
       "2       8  159660.80              3          1               0   \n",
       "3       1       0.00              2          0               0   \n",
       "4       2  125510.82              1          1               1   \n",
       "\n",
       "   EstimatedSalary  Exited  \n",
       "0        101348.88       1  \n",
       "1        112542.58       0  \n",
       "2        113931.57       1  \n",
       "3         93826.63       0  \n",
       "4         79084.10       0  "
      ]
     },
     "execution_count": 3,
     "metadata": {},
     "output_type": "execute_result"
    }
   ],
   "source": [
    "dataset.head()"
   ]
  },
  {
   "cell_type": "markdown",
   "metadata": {},
   "source": [
    "## Exploratory Data Analysis"
   ]
  },
  {
   "cell_type": "code",
   "execution_count": 4,
   "metadata": {},
   "outputs": [
    {
     "data": {
      "text/html": [
       "<div>\n",
       "<style scoped>\n",
       "    .dataframe tbody tr th:only-of-type {\n",
       "        vertical-align: middle;\n",
       "    }\n",
       "\n",
       "    .dataframe tbody tr th {\n",
       "        vertical-align: top;\n",
       "    }\n",
       "\n",
       "    .dataframe thead th {\n",
       "        text-align: right;\n",
       "    }\n",
       "</style>\n",
       "<table border=\"1\" class=\"dataframe\">\n",
       "  <thead>\n",
       "    <tr style=\"text-align: right;\">\n",
       "      <th></th>\n",
       "      <th>RowNumber</th>\n",
       "      <th>CustomerId</th>\n",
       "      <th>CreditScore</th>\n",
       "      <th>Age</th>\n",
       "      <th>Tenure</th>\n",
       "      <th>Balance</th>\n",
       "      <th>NumOfProducts</th>\n",
       "      <th>HasCrCard</th>\n",
       "      <th>IsActiveMember</th>\n",
       "      <th>EstimatedSalary</th>\n",
       "      <th>Exited</th>\n",
       "    </tr>\n",
       "  </thead>\n",
       "  <tbody>\n",
       "    <tr>\n",
       "      <th>count</th>\n",
       "      <td>10000.00000</td>\n",
       "      <td>1.000000e+04</td>\n",
       "      <td>10000.000000</td>\n",
       "      <td>10000.000000</td>\n",
       "      <td>10000.000000</td>\n",
       "      <td>10000.000000</td>\n",
       "      <td>10000.000000</td>\n",
       "      <td>10000.00000</td>\n",
       "      <td>10000.000000</td>\n",
       "      <td>10000.000000</td>\n",
       "      <td>10000.000000</td>\n",
       "    </tr>\n",
       "    <tr>\n",
       "      <th>mean</th>\n",
       "      <td>5000.50000</td>\n",
       "      <td>1.569094e+07</td>\n",
       "      <td>650.528800</td>\n",
       "      <td>38.921800</td>\n",
       "      <td>5.012800</td>\n",
       "      <td>76485.889288</td>\n",
       "      <td>1.530200</td>\n",
       "      <td>0.70550</td>\n",
       "      <td>0.515100</td>\n",
       "      <td>100090.239881</td>\n",
       "      <td>0.203700</td>\n",
       "    </tr>\n",
       "    <tr>\n",
       "      <th>std</th>\n",
       "      <td>2886.89568</td>\n",
       "      <td>7.193619e+04</td>\n",
       "      <td>96.653299</td>\n",
       "      <td>10.487806</td>\n",
       "      <td>2.892174</td>\n",
       "      <td>62397.405202</td>\n",
       "      <td>0.581654</td>\n",
       "      <td>0.45584</td>\n",
       "      <td>0.499797</td>\n",
       "      <td>57510.492818</td>\n",
       "      <td>0.402769</td>\n",
       "    </tr>\n",
       "    <tr>\n",
       "      <th>min</th>\n",
       "      <td>1.00000</td>\n",
       "      <td>1.556570e+07</td>\n",
       "      <td>350.000000</td>\n",
       "      <td>18.000000</td>\n",
       "      <td>0.000000</td>\n",
       "      <td>0.000000</td>\n",
       "      <td>1.000000</td>\n",
       "      <td>0.00000</td>\n",
       "      <td>0.000000</td>\n",
       "      <td>11.580000</td>\n",
       "      <td>0.000000</td>\n",
       "    </tr>\n",
       "    <tr>\n",
       "      <th>25%</th>\n",
       "      <td>2500.75000</td>\n",
       "      <td>1.562853e+07</td>\n",
       "      <td>584.000000</td>\n",
       "      <td>32.000000</td>\n",
       "      <td>3.000000</td>\n",
       "      <td>0.000000</td>\n",
       "      <td>1.000000</td>\n",
       "      <td>0.00000</td>\n",
       "      <td>0.000000</td>\n",
       "      <td>51002.110000</td>\n",
       "      <td>0.000000</td>\n",
       "    </tr>\n",
       "    <tr>\n",
       "      <th>50%</th>\n",
       "      <td>5000.50000</td>\n",
       "      <td>1.569074e+07</td>\n",
       "      <td>652.000000</td>\n",
       "      <td>37.000000</td>\n",
       "      <td>5.000000</td>\n",
       "      <td>97198.540000</td>\n",
       "      <td>1.000000</td>\n",
       "      <td>1.00000</td>\n",
       "      <td>1.000000</td>\n",
       "      <td>100193.915000</td>\n",
       "      <td>0.000000</td>\n",
       "    </tr>\n",
       "    <tr>\n",
       "      <th>75%</th>\n",
       "      <td>7500.25000</td>\n",
       "      <td>1.575323e+07</td>\n",
       "      <td>718.000000</td>\n",
       "      <td>44.000000</td>\n",
       "      <td>7.000000</td>\n",
       "      <td>127644.240000</td>\n",
       "      <td>2.000000</td>\n",
       "      <td>1.00000</td>\n",
       "      <td>1.000000</td>\n",
       "      <td>149388.247500</td>\n",
       "      <td>0.000000</td>\n",
       "    </tr>\n",
       "    <tr>\n",
       "      <th>max</th>\n",
       "      <td>10000.00000</td>\n",
       "      <td>1.581569e+07</td>\n",
       "      <td>850.000000</td>\n",
       "      <td>92.000000</td>\n",
       "      <td>10.000000</td>\n",
       "      <td>250898.090000</td>\n",
       "      <td>4.000000</td>\n",
       "      <td>1.00000</td>\n",
       "      <td>1.000000</td>\n",
       "      <td>199992.480000</td>\n",
       "      <td>1.000000</td>\n",
       "    </tr>\n",
       "  </tbody>\n",
       "</table>\n",
       "</div>"
      ],
      "text/plain": [
       "         RowNumber    CustomerId   CreditScore           Age        Tenure  \\\n",
       "count  10000.00000  1.000000e+04  10000.000000  10000.000000  10000.000000   \n",
       "mean    5000.50000  1.569094e+07    650.528800     38.921800      5.012800   \n",
       "std     2886.89568  7.193619e+04     96.653299     10.487806      2.892174   \n",
       "min        1.00000  1.556570e+07    350.000000     18.000000      0.000000   \n",
       "25%     2500.75000  1.562853e+07    584.000000     32.000000      3.000000   \n",
       "50%     5000.50000  1.569074e+07    652.000000     37.000000      5.000000   \n",
       "75%     7500.25000  1.575323e+07    718.000000     44.000000      7.000000   \n",
       "max    10000.00000  1.581569e+07    850.000000     92.000000     10.000000   \n",
       "\n",
       "             Balance  NumOfProducts    HasCrCard  IsActiveMember  \\\n",
       "count   10000.000000   10000.000000  10000.00000    10000.000000   \n",
       "mean    76485.889288       1.530200      0.70550        0.515100   \n",
       "std     62397.405202       0.581654      0.45584        0.499797   \n",
       "min         0.000000       1.000000      0.00000        0.000000   \n",
       "25%         0.000000       1.000000      0.00000        0.000000   \n",
       "50%     97198.540000       1.000000      1.00000        1.000000   \n",
       "75%    127644.240000       2.000000      1.00000        1.000000   \n",
       "max    250898.090000       4.000000      1.00000        1.000000   \n",
       "\n",
       "       EstimatedSalary        Exited  \n",
       "count     10000.000000  10000.000000  \n",
       "mean     100090.239881      0.203700  \n",
       "std       57510.492818      0.402769  \n",
       "min          11.580000      0.000000  \n",
       "25%       51002.110000      0.000000  \n",
       "50%      100193.915000      0.000000  \n",
       "75%      149388.247500      0.000000  \n",
       "max      199992.480000      1.000000  "
      ]
     },
     "execution_count": 4,
     "metadata": {},
     "output_type": "execute_result"
    }
   ],
   "source": [
    "dataset.describe()"
   ]
  },
  {
   "cell_type": "code",
   "execution_count": 5,
   "metadata": {},
   "outputs": [
    {
     "data": {
      "text/plain": [
       "RowNumber          0\n",
       "CustomerId         0\n",
       "Surname            0\n",
       "CreditScore        0\n",
       "Geography          0\n",
       "Gender             0\n",
       "Age                0\n",
       "Tenure             0\n",
       "Balance            0\n",
       "NumOfProducts      0\n",
       "HasCrCard          0\n",
       "IsActiveMember     0\n",
       "EstimatedSalary    0\n",
       "Exited             0\n",
       "dtype: int64"
      ]
     },
     "execution_count": 5,
     "metadata": {},
     "output_type": "execute_result"
    }
   ],
   "source": [
    "dataset.isnull().sum()"
   ]
  },
  {
   "cell_type": "code",
   "execution_count": 6,
   "metadata": {},
   "outputs": [
    {
     "data": {
      "text/plain": [
       "<AxesSubplot:xlabel='Geography', ylabel='Age'>"
      ]
     },
     "execution_count": 6,
     "metadata": {},
     "output_type": "execute_result"
    },
    {
     "data": {
      "image/png": "[encoded data removed]",
      "text/plain": [
       "<Figure size 432x288 with 1 Axes>"
      ]
     },
     "metadata": {
      "needs_background": "light"
     },
     "output_type": "display_data"
    }
   ],
   "source": [
    "sns.boxplot(x=\"Geography\", y ='Age', hue=\"Exited\", data=dataset, palette=\"Set3\")"
   ]
  },
  {
   "cell_type": "code",
   "execution_count": 7,
   "metadata": {},
   "outputs": [
    {
     "data": {
      "text/plain": [
       "<AxesSubplot:xlabel='Exited', ylabel='count'>"
      ]
     },
     "execution_count": 7,
     "metadata": {},
     "output_type": "execute_result"
    },
    {
     "data": {
      "image/png": "[encoded data removed]",
      "text/plain": [
       "<Figure size 432x288 with 1 Axes>"
      ]
     },
     "metadata": {},
     "output_type": "display_data"
    }
   ],
   "source": [
    "sns.set_style('whitegrid')\n",
    "sns.countplot(x='Exited', hue=\"Gender\", data=dataset,palette='RdBu_r')"
   ]
  },
  {
   "cell_type": "markdown",
   "metadata": {},
   "source": [
    "## Data Preprocessing\n",
    "### Data Encoding"
   ]
  },
  {
   "cell_type": "code",
   "execution_count": 8,
   "metadata": {},
   "outputs": [],
   "source": [
    "X = dataset.iloc[:, 3:-1].values\n",
    "y = dataset.iloc[:, -1].values"
   ]
  },
  {
   "cell_type": "code",
   "execution_count": 9,
   "metadata": {},
   "outputs": [],
   "source": [
    "from sklearn.preprocessing import LabelEncoder\n",
    "le = LabelEncoder()\n",
    "X[:, 2] = le.fit_transform(X[:, 2])"
   ]
  },
  {
   "cell_type": "code",
   "execution_count": 10,
   "metadata": {},
   "outputs": [],
   "source": [
    "from sklearn.compose import ColumnTransformer\n",
    "from sklearn.preprocessing import OneHotEncoder\n",
    "ct = ColumnTransformer(transformers=[('encoder', OneHotEncoder(), [1])], remainder='passthrough')\n",
    "X = np.array(ct.fit_transform(X))"
   ]
  },
  {
   "cell_type": "markdown",
   "metadata": {},
   "source": [
    "## Split Data into Test and Train Data"
   ]
  },
  {
   "cell_type": "code",
   "execution_count": 11,
   "metadata": {},
   "outputs": [],
   "source": [
    "from sklearn.model_selection import train_test_split\n",
    "X_train, X_test, y_train, y_test = train_test_split(X, y, test_size = 0.25, random_state = 42)"
   ]
  },
  {
   "cell_type": "markdown",
   "metadata": {},
   "source": [
    "## Feature Scaling"
   ]
  },
  {
   "cell_type": "code",
   "execution_count": 12,
   "metadata": {},
   "outputs": [],
   "source": [
    "from sklearn.preprocessing import StandardScaler\n",
    "sc = StandardScaler()\n",
    "X_train = sc.fit_transform(X_train)\n",
    "X_test = sc.transform(X_test)"
   ]
  },
  {
   "cell_type": "markdown",
   "metadata": {},
   "source": [
    "## Training Data on the Decision Tree Classifier"
   ]
  },
  {
   "cell_type": "code",
   "execution_count": 13,
   "metadata": {},
   "outputs": [
    {
     "name": "stdout",
     "output_type": "stream",
     "text": [
      "Epoch 1/100\n",
      "235/235 [==============================] - 0s 534us/step - loss: 0.5636 - accuracy: 0.7840\n",
      "Epoch 2/100\n",
      "235/235 [==============================] - 0s 465us/step - loss: 0.4940 - accuracy: 0.7960\n",
      "Epoch 3/100\n",
      "235/235 [==============================] - 0s 549us/step - loss: 0.4625 - accuracy: 0.7985\n",
      "Epoch 4/100\n",
      "235/235 [==============================] - 0s 472us/step - loss: 0.4462 - accuracy: 0.8043\n",
      "Epoch 5/100\n",
      "235/235 [==============================] - 0s 518us/step - loss: 0.4382 - accuracy: 0.8061\n",
      "Epoch 6/100\n",
      "235/235 [==============================] - 0s 549us/step - loss: 0.4335 - accuracy: 0.8068\n",
      "Epoch 7/100\n",
      "235/235 [==============================] - 0s 473us/step - loss: 0.4293 - accuracy: 0.8085\n",
      "Epoch 8/100\n",
      "235/235 [==============================] - 0s 497us/step - loss: 0.4260 - accuracy: 0.8105\n",
      "Epoch 9/100\n",
      "235/235 [==============================] - 0s 471us/step - loss: 0.4222 - accuracy: 0.8145\n",
      "Epoch 10/100\n",
      "235/235 [==============================] - 0s 485us/step - loss: 0.4192 - accuracy: 0.8159\n",
      "Epoch 11/100\n",
      "235/235 [==============================] - 0s 478us/step - loss: 0.4166 - accuracy: 0.8189\n",
      "Epoch 12/100\n",
      "235/235 [==============================] - 0s 464us/step - loss: 0.4144 - accuracy: 0.8197\n",
      "Epoch 13/100\n",
      "235/235 [==============================] - 0s 469us/step - loss: 0.4122 - accuracy: 0.8201\n",
      "Epoch 14/100\n",
      "235/235 [==============================] - 0s 463us/step - loss: 0.4101 - accuracy: 0.8219\n",
      "Epoch 15/100\n",
      "235/235 [==============================] - 0s 467us/step - loss: 0.4082 - accuracy: 0.8217\n",
      "Epoch 16/100\n",
      "235/235 [==============================] - 0s 491us/step - loss: 0.4067 - accuracy: 0.8231\n",
      "Epoch 17/100\n",
      "235/235 [==============================] - 0s 468us/step - loss: 0.4050 - accuracy: 0.8245\n",
      "Epoch 18/100\n",
      "235/235 [==============================] - 0s 500us/step - loss: 0.4034 - accuracy: 0.8249\n",
      "Epoch 19/100\n",
      "235/235 [==============================] - 0s 467us/step - loss: 0.4018 - accuracy: 0.8257\n",
      "Epoch 20/100\n",
      "235/235 [==============================] - 0s 496us/step - loss: 0.4001 - accuracy: 0.8263\n",
      "Epoch 21/100\n",
      "235/235 [==============================] - 0s 459us/step - loss: 0.3981 - accuracy: 0.8280\n",
      "Epoch 22/100\n",
      "235/235 [==============================] - 0s 466us/step - loss: 0.3964 - accuracy: 0.8279\n",
      "Epoch 23/100\n",
      "235/235 [==============================] - 0s 461us/step - loss: 0.3940 - accuracy: 0.8305\n",
      "Epoch 24/100\n",
      "235/235 [==============================] - 0s 461us/step - loss: 0.3907 - accuracy: 0.8315\n",
      "Epoch 25/100\n",
      "235/235 [==============================] - 0s 497us/step - loss: 0.3869 - accuracy: 0.8336\n",
      "Epoch 26/100\n",
      "235/235 [==============================] - 0s 530us/step - loss: 0.3831 - accuracy: 0.8349\n",
      "Epoch 27/100\n",
      "235/235 [==============================] - 0s 530us/step - loss: 0.3788 - accuracy: 0.8373\n",
      "Epoch 28/100\n",
      "235/235 [==============================] - 0s 524us/step - loss: 0.3740 - accuracy: 0.8396\n",
      "Epoch 29/100\n",
      "235/235 [==============================] - 0s 537us/step - loss: 0.3697 - accuracy: 0.8432\n",
      "Epoch 30/100\n",
      "235/235 [==============================] - 0s 470us/step - loss: 0.3655 - accuracy: 0.8467\n",
      "Epoch 31/100\n",
      "235/235 [==============================] - 0s 467us/step - loss: 0.3609 - accuracy: 0.8485\n",
      "Epoch 32/100\n",
      "235/235 [==============================] - 0s 480us/step - loss: 0.3572 - accuracy: 0.8507\n",
      "Epoch 33/100\n",
      "235/235 [==============================] - 0s 480us/step - loss: 0.3539 - accuracy: 0.8515\n",
      "Epoch 34/100\n",
      "235/235 [==============================] - 0s 526us/step - loss: 0.3516 - accuracy: 0.8527\n",
      "Epoch 35/100\n",
      "235/235 [==============================] - 0s 556us/step - loss: 0.3494 - accuracy: 0.8533\n",
      "Epoch 36/100\n",
      "235/235 [==============================] - 0s 552us/step - loss: 0.3478 - accuracy: 0.8547\n",
      "Epoch 37/100\n",
      "235/235 [==============================] - 0s 482us/step - loss: 0.3461 - accuracy: 0.8548\n",
      "Epoch 38/100\n",
      "235/235 [==============================] - 0s 500us/step - loss: 0.3453 - accuracy: 0.8560\n",
      "Epoch 39/100\n",
      "235/235 [==============================] - 0s 484us/step - loss: 0.3443 - accuracy: 0.8567\n",
      "Epoch 40/100\n",
      "235/235 [==============================] - 0s 477us/step - loss: 0.3433 - accuracy: 0.8567\n",
      "Epoch 41/100\n",
      "235/235 [==============================] - 0s 481us/step - loss: 0.3426 - accuracy: 0.8573\n",
      "Epoch 42/100\n",
      "235/235 [==============================] - 0s 485us/step - loss: 0.3421 - accuracy: 0.8579\n",
      "Epoch 43/100\n",
      "235/235 [==============================] - 0s 460us/step - loss: 0.3418 - accuracy: 0.8573\n",
      "Epoch 44/100\n",
      "235/235 [==============================] - 0s 470us/step - loss: 0.3409 - accuracy: 0.8588\n",
      "Epoch 45/100\n",
      "235/235 [==============================] - 0s 471us/step - loss: 0.3405 - accuracy: 0.8583\n",
      "Epoch 46/100\n",
      "235/235 [==============================] - 0s 475us/step - loss: 0.3402 - accuracy: 0.8583\n",
      "Epoch 47/100\n",
      "235/235 [==============================] - 0s 469us/step - loss: 0.3402 - accuracy: 0.8585\n",
      "Epoch 48/100\n",
      "235/235 [==============================] - 0s 467us/step - loss: 0.3400 - accuracy: 0.8593\n",
      "Epoch 49/100\n",
      "235/235 [==============================] - 0s 479us/step - loss: 0.3394 - accuracy: 0.8592\n",
      "Epoch 50/100\n",
      "235/235 [==============================] - 0s 479us/step - loss: 0.3390 - accuracy: 0.8596\n",
      "Epoch 51/100\n",
      "235/235 [==============================] - 0s 492us/step - loss: 0.3390 - accuracy: 0.8589\n",
      "Epoch 52/100\n",
      "235/235 [==============================] - 0s 499us/step - loss: 0.3390 - accuracy: 0.8587\n",
      "Epoch 53/100\n",
      "235/235 [==============================] - 0s 481us/step - loss: 0.3387 - accuracy: 0.8584\n",
      "Epoch 54/100\n",
      "235/235 [==============================] - 0s 517us/step - loss: 0.3384 - accuracy: 0.8576\n",
      "Epoch 55/100\n",
      "235/235 [==============================] - 0s 466us/step - loss: 0.3376 - accuracy: 0.8584\n",
      "Epoch 56/100\n",
      "235/235 [==============================] - 0s 459us/step - loss: 0.3382 - accuracy: 0.8581\n",
      "Epoch 57/100\n",
      "235/235 [==============================] - 0s 459us/step - loss: 0.3377 - accuracy: 0.8591\n",
      "Epoch 58/100\n",
      "235/235 [==============================] - 0s 480us/step - loss: 0.3381 - accuracy: 0.8596\n",
      "Epoch 59/100\n",
      "235/235 [==============================] - 0s 505us/step - loss: 0.3375 - accuracy: 0.8585\n",
      "Epoch 60/100\n",
      "235/235 [==============================] - 0s 462us/step - loss: 0.3371 - accuracy: 0.8585\n",
      "Epoch 61/100\n",
      "235/235 [==============================] - 0s 465us/step - loss: 0.3372 - accuracy: 0.8605\n",
      "Epoch 62/100\n",
      "235/235 [==============================] - 0s 456us/step - loss: 0.3371 - accuracy: 0.8589\n",
      "Epoch 63/100\n",
      "235/235 [==============================] - 0s 466us/step - loss: 0.3370 - accuracy: 0.8591\n",
      "Epoch 64/100\n",
      "235/235 [==============================] - 0s 458us/step - loss: 0.3371 - accuracy: 0.8593\n",
      "Epoch 65/100\n",
      "235/235 [==============================] - 0s 482us/step - loss: 0.3369 - accuracy: 0.8583\n",
      "Epoch 66/100\n",
      "235/235 [==============================] - 0s 458us/step - loss: 0.3366 - accuracy: 0.8595\n",
      "Epoch 67/100\n",
      "235/235 [==============================] - 0s 460us/step - loss: 0.3368 - accuracy: 0.8588\n",
      "Epoch 68/100\n",
      "235/235 [==============================] - 0s 460us/step - loss: 0.3363 - accuracy: 0.8592\n",
      "Epoch 69/100\n",
      "235/235 [==============================] - 0s 463us/step - loss: 0.3364 - accuracy: 0.8599\n",
      "Epoch 70/100\n",
      "235/235 [==============================] - 0s 465us/step - loss: 0.3360 - accuracy: 0.8592\n",
      "Epoch 71/100\n",
      "235/235 [==============================] - 0s 456us/step - loss: 0.3364 - accuracy: 0.8584\n",
      "Epoch 72/100\n",
      "235/235 [==============================] - 0s 480us/step - loss: 0.3363 - accuracy: 0.8593\n",
      "Epoch 73/100\n",
      "235/235 [==============================] - 0s 472us/step - loss: 0.3360 - accuracy: 0.8588\n",
      "Epoch 74/100\n",
      "235/235 [==============================] - 0s 474us/step - loss: 0.3358 - accuracy: 0.8588\n",
      "Epoch 75/100\n",
      "235/235 [==============================] - 0s 477us/step - loss: 0.3358 - accuracy: 0.8589\n",
      "Epoch 76/100\n",
      "235/235 [==============================] - 0s 461us/step - loss: 0.3357 - accuracy: 0.8599\n",
      "Epoch 77/100\n",
      "235/235 [==============================] - 0s 473us/step - loss: 0.3361 - accuracy: 0.8589\n",
      "Epoch 78/100\n",
      "235/235 [==============================] - 0s 483us/step - loss: 0.3355 - accuracy: 0.8603\n",
      "Epoch 79/100\n"
     ]
    },
    {
     "name": "stdout",
     "output_type": "stream",
     "text": [
      "235/235 [==============================] - 0s 488us/step - loss: 0.3353 - accuracy: 0.8596\n",
      "Epoch 80/100\n",
      "235/235 [==============================] - 0s 476us/step - loss: 0.3360 - accuracy: 0.8599\n",
      "Epoch 81/100\n",
      "235/235 [==============================] - 0s 478us/step - loss: 0.3355 - accuracy: 0.8608\n",
      "Epoch 82/100\n",
      "235/235 [==============================] - 0s 471us/step - loss: 0.3355 - accuracy: 0.8613\n",
      "Epoch 83/100\n",
      "235/235 [==============================] - 0s 508us/step - loss: 0.3353 - accuracy: 0.8608\n",
      "Epoch 84/100\n",
      "235/235 [==============================] - 0s 486us/step - loss: 0.3351 - accuracy: 0.8593\n",
      "Epoch 85/100\n",
      "235/235 [==============================] - 0s 470us/step - loss: 0.3351 - accuracy: 0.8597\n",
      "Epoch 86/100\n",
      "235/235 [==============================] - 0s 480us/step - loss: 0.3355 - accuracy: 0.8603\n",
      "Epoch 87/100\n",
      "235/235 [==============================] - 0s 498us/step - loss: 0.3350 - accuracy: 0.8609\n",
      "Epoch 88/100\n",
      "235/235 [==============================] - 0s 469us/step - loss: 0.3351 - accuracy: 0.8616\n",
      "Epoch 89/100\n",
      "235/235 [==============================] - 0s 499us/step - loss: 0.3348 - accuracy: 0.8608\n",
      "Epoch 90/100\n",
      "235/235 [==============================] - 0s 464us/step - loss: 0.3351 - accuracy: 0.8609\n",
      "Epoch 91/100\n",
      "235/235 [==============================] - 0s 467us/step - loss: 0.3349 - accuracy: 0.8601\n",
      "Epoch 92/100\n",
      "235/235 [==============================] - 0s 463us/step - loss: 0.3350 - accuracy: 0.8604\n",
      "Epoch 93/100\n",
      "235/235 [==============================] - 0s 489us/step - loss: 0.3350 - accuracy: 0.8605\n",
      "Epoch 94/100\n",
      "235/235 [==============================] - 0s 662us/step - loss: 0.3346 - accuracy: 0.8603\n",
      "Epoch 95/100\n",
      "235/235 [==============================] - 0s 539us/step - loss: 0.3349 - accuracy: 0.8615\n",
      "Epoch 96/100\n",
      "235/235 [==============================] - 0s 505us/step - loss: 0.3345 - accuracy: 0.8597\n",
      "Epoch 97/100\n",
      "235/235 [==============================] - 0s 527us/step - loss: 0.3348 - accuracy: 0.8603\n",
      "Epoch 98/100\n",
      "235/235 [==============================] - 0s 538us/step - loss: 0.3348 - accuracy: 0.8601\n",
      "Epoch 99/100\n",
      "235/235 [==============================] - 0s 865us/step - loss: 0.3345 - accuracy: 0.8595\n",
      "Epoch 100/100\n",
      "235/235 [==============================] - 0s 585us/step - loss: 0.3347 - accuracy: 0.8609\n"
     ]
    },
    {
     "data": {
      "text/plain": [
       "<tensorflow.python.keras.callbacks.History at 0x2bc99817970>"
      ]
     },
     "execution_count": 13,
     "metadata": {},
     "output_type": "execute_result"
    }
   ],
   "source": [
    "ann = tf.keras.models.Sequential()\n",
    "ann.add(tf.keras.layers.Dense(units=6, activation='relu'))\n",
    "ann.add(tf.keras.layers.Dense(units=6, activation='relu'))\n",
    "ann.add(tf.keras.layers.Dense(units=1, activation='sigmoid'))\n",
    "ann.compile(optimizer = 'adam', loss = 'binary_crossentropy', metrics = ['accuracy'])\n",
    "ann.fit(X_train, y_train, batch_size = 32, epochs = 100)"
   ]
  },
  {
   "cell_type": "markdown",
   "metadata": {},
   "source": [
    "## Predictions and Evaluations"
   ]
  },
  {
   "cell_type": "code",
   "execution_count": 14,
   "metadata": {},
   "outputs": [
    {
     "ename": "NameError",
     "evalue": "name 'y_pred' is not defined",
     "output_type": "error",
     "traceback": [
      "\u001b[1;31m---------------------------------------------------------------------------\u001b[0m",
      "\u001b[1;31mNameError\u001b[0m                                 Traceback (most recent call last)",
      "\u001b[1;32m<ipython-input-14-45e4947eb360>\u001b[0m in \u001b[0;36m<module>\u001b[1;34m\u001b[0m\n\u001b[0;32m      1\u001b[0m \u001b[0mpredictions\u001b[0m \u001b[1;33m=\u001b[0m \u001b[0mann\u001b[0m\u001b[1;33m.\u001b[0m\u001b[0mpredict\u001b[0m\u001b[1;33m(\u001b[0m\u001b[0mX_test\u001b[0m\u001b[1;33m)\u001b[0m\u001b[1;33m\u001b[0m\u001b[1;33m\u001b[0m\u001b[0m\n\u001b[1;32m----> 2\u001b[1;33m \u001b[0mpredictions\u001b[0m \u001b[1;33m=\u001b[0m \u001b[1;33m(\u001b[0m\u001b[0my_pred\u001b[0m \u001b[1;33m>\u001b[0m \u001b[1;36m0.5\u001b[0m\u001b[1;33m)\u001b[0m\u001b[1;33m\u001b[0m\u001b[1;33m\u001b[0m\u001b[0m\n\u001b[0m",
      "\u001b[1;31mNameError\u001b[0m: name 'y_pred' is not defined"
     ]
    }
   ],
   "source": [
    "predictions = ann.predict(X_test)\n",
    "predictions = (predictions > 0.5)"
   ]
  },
  {
   "cell_type": "code",
   "execution_count": null,
   "metadata": {
    "scrolled": true
   },
   "outputs": [],
   "source": [
    "from sklearn.metrics import classification_report\n",
    "print(classification_report(y_test,predictions))"
   ]
  },
  {
   "cell_type": "code",
   "execution_count": null,
   "metadata": {},
   "outputs": [],
   "source": [
    "from sklearn.metrics import confusion_matrix, accuracy_score\n",
    "cm = confusion_matrix(y_test, predictions)\n",
    "print(cm)\n",
    "accuracy_score(y_test, predictions)"
   ]
  }
 ],
 "metadata": {
  "kernelspec": {
   "display_name": "Python 3",
   "language": "python",
   "name": "python3"
  },
  "language_info": {
   "codemirror_mode": {
    "name": "ipython",
    "version": 3
   },
   "file_extension": ".py",
   "mimetype": "text/x-python",
   "name": "python",
   "nbconvert_exporter": "python",
   "pygments_lexer": "ipython3",
   "version": "3.8.5"
  }
 },
 "nbformat": 4,
 "nbformat_minor": 4
}
